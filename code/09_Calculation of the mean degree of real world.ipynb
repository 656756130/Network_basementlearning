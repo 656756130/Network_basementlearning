{
 "cells": [
  {
   "cell_type": "code",
   "execution_count": 1,
   "metadata": {
    "collapsed": true
   },
   "outputs": [],
   "source": [
    "import networkx as nx\n",
    "import read_txt_networks as rtn"
   ]
  },
  {
   "cell_type": "code",
   "execution_count": 2,
   "outputs": [
    {
     "name": "stdout",
     "output_type": "stream",
     "text": [
      "(0, 290039)\n",
      "max index: 702387\n",
      "Warning: This is only a reference value for the number of nodes, and if there is no largest isolated node, the value plus 1 is the total number of nodes\n"
     ]
    }
   ],
   "source": [
    "set_actor = rtn.read_txt_networks('actor.edgelist.txt')"
   ],
   "metadata": {
    "collapsed": false
   }
  },
  {
   "cell_type": "code",
   "execution_count": 3,
   "outputs": [
    {
     "name": "stdout",
     "output_type": "stream",
     "text": [
      "(1, 229)\n",
      "max index: 2017\n",
      "Warning: This is only a reference value for the number of nodes, and if there is no largest isolated node, the value plus 1 is the total number of nodes\n"
     ]
    }
   ],
   "source": [
    "set_protein = rtn.read_txt_networks('protein.edgelist.txt')"
   ],
   "metadata": {
    "collapsed": false
   }
  },
  {
   "cell_type": "code",
   "execution_count": 4,
   "outputs": [
    {
     "name": "stdout",
     "output_type": "stream",
     "text": [
      "(0, 111)\n",
      "max index: 192191\n",
      "Warning: This is only a reference value for the number of nodes, and if there is no largest isolated node, the value plus 1 is the total number of nodes\n"
     ]
    }
   ],
   "source": [
    "set_internet = rtn.read_txt_networks('internet.edgelist.txt')"
   ],
   "metadata": {
    "collapsed": false
   }
  },
  {
   "cell_type": "code",
   "execution_count": 5,
   "outputs": [
    {
     "name": "stdout",
     "output_type": "stream",
     "text": [
      "(0, 33344)\n",
      "max index: 449672\n",
      "Warning: This is only a reference value for the number of nodes, and if there is no largest isolated node, the value plus 1 is the total number of nodes\n"
     ]
    }
   ],
   "source": [
    "set_citation = rtn.read_txt_networks('citation.edgelist.txt')"
   ],
   "metadata": {
    "collapsed": false
   }
  },
  {
   "cell_type": "code",
   "execution_count": 6,
   "outputs": [
    {
     "name": "stdout",
     "output_type": "stream",
     "text": [
      "(0, 395)\n",
      "max index: 4940\n",
      "Warning: This is only a reference value for the number of nodes, and if there is no largest isolated node, the value plus 1 is the total number of nodes\n"
     ]
    }
   ],
   "source": [
    "set_powergrid = rtn.read_txt_networks('powergrid.edgelist.txt')"
   ],
   "metadata": {
    "collapsed": false
   }
  },
  {
   "cell_type": "code",
   "execution_count": 7,
   "outputs": [],
   "source": [
    "G_actor = rtn.build_txt_network(set_actor,702387)\n",
    "G_protein = rtn.build_txt_network(set_protein,2017)\n",
    "G_internet = rtn.build_txt_network(set_internet,192191)\n",
    "G_citation = rtn.build_txt_network(set_citation,449672)\n",
    "G_powergrid = rtn.build_txt_network(set_powergrid,4940)"
   ],
   "metadata": {
    "collapsed": false
   }
  },
  {
   "cell_type": "code",
   "execution_count": 8,
   "outputs": [
    {
     "name": "stdout",
     "output_type": "stream",
     "text": [
      "702388\n"
     ]
    }
   ],
   "source": [
    "num = G_actor.number_of_nodes()\n",
    "print(num)"
   ],
   "metadata": {
    "collapsed": false
   }
  },
  {
   "cell_type": "code",
   "execution_count": 9,
   "outputs": [
    {
     "name": "stdout",
     "output_type": "stream",
     "text": [
      "83.70845743378304\n",
      "2.9038652130822595\n",
      "6.336385010715549\n",
      "20.8399259017108\n",
      "2.66909532483303\n"
     ]
    }
   ],
   "source": [
    "import Scale_of_network as sn\n",
    "print(sn.NDNW_average_degree(G_actor))\n",
    "print(sn.NDNW_average_degree(G_protein))\n",
    "print(sn.NDNW_average_degree(G_internet))\n",
    "print(sn.NDNW_average_degree(G_citation))\n",
    "print(sn.NDNW_average_degree(G_powergrid))"
   ],
   "metadata": {
    "collapsed": false
   }
  },
  {
   "cell_type": "code",
   "execution_count": 10,
   "outputs": [
    {
     "name": "stdout",
     "output_type": "stream",
     "text": [
      "该网络为连通状态网络\n"
     ]
    }
   ],
   "source": [
    "import Scale_of_network as sn\n",
    "sn.catagory_of_network(G_actor)"
   ],
   "metadata": {
    "collapsed": false
   }
  },
  {
   "cell_type": "code",
   "execution_count": 11,
   "outputs": [
    {
     "name": "stdout",
     "output_type": "stream",
     "text": [
      "该网络为超临界状态网络\n"
     ]
    }
   ],
   "source": [
    "sn.catagory_of_network(G_protein)"
   ],
   "metadata": {
    "collapsed": false
   }
  },
  {
   "cell_type": "code",
   "execution_count": 12,
   "outputs": [
    {
     "name": "stdout",
     "output_type": "stream",
     "text": [
      "该网络为超临界状态网络\n"
     ]
    }
   ],
   "source": [
    "sn.catagory_of_network(G_internet)"
   ],
   "metadata": {
    "collapsed": false
   }
  },
  {
   "cell_type": "code",
   "execution_count": 13,
   "outputs": [
    {
     "name": "stdout",
     "output_type": "stream",
     "text": [
      "该网络为连通状态网络\n"
     ]
    }
   ],
   "source": [
    "sn.catagory_of_network(G_citation)"
   ],
   "metadata": {
    "collapsed": false
   }
  },
  {
   "cell_type": "code",
   "execution_count": 14,
   "outputs": [
    {
     "name": "stdout",
     "output_type": "stream",
     "text": [
      "该网络为超临界状态网络\n"
     ]
    }
   ],
   "source": [
    "sn.catagory_of_network(G_powergrid)"
   ],
   "metadata": {
    "collapsed": false
   }
  },
  {
   "cell_type": "code",
   "execution_count": 15,
   "outputs": [
    {
     "data": {
      "text/plain": "0.9999999998311266"
     },
     "execution_count": 15,
     "metadata": {},
     "output_type": "execute_result"
    }
   ],
   "source": [
    "import numpy as np\n",
    "np.log(2.718281828)"
   ],
   "metadata": {
    "collapsed": false
   }
  }
 ],
 "metadata": {
  "kernelspec": {
   "display_name": "Python 3",
   "language": "python",
   "name": "python3"
  },
  "language_info": {
   "codemirror_mode": {
    "name": "ipython",
    "version": 2
   },
   "file_extension": ".py",
   "mimetype": "text/x-python",
   "name": "python",
   "nbconvert_exporter": "python",
   "pygments_lexer": "ipython2",
   "version": "2.7.6"
  }
 },
 "nbformat": 4,
 "nbformat_minor": 0
}
