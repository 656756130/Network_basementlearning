{
 "cells": [
  {
   "cell_type": "code",
   "execution_count": 1,
   "metadata": {
    "collapsed": true
   },
   "outputs": [],
   "source": [
    "import read_txt_networks as rtn"
   ]
  },
  {
   "cell_type": "code",
   "execution_count": 2,
   "outputs": [
    {
     "name": "stdout",
     "output_type": "stream",
     "text": [
      "(0, 290039)\n",
      "max index: 702387\n",
      "Warning: This is only a reference value for the number of nodes, and if there is no largest isolated node, the value plus 1 is the total number of nodes\n",
      "(0, 111)\n",
      "max index: 192191\n",
      "Warning: This is only a reference value for the number of nodes, and if there is no largest isolated node, the value plus 1 is the total number of nodes\n"
     ]
    }
   ],
   "source": [
    "set_actor = rtn.read_txt_networks('actor.edgelist.txt')\n",
    "set_internet = rtn.read_txt_networks('internet.edgelist.txt')"
   ],
   "metadata": {
    "collapsed": false
   }
  },
  {
   "cell_type": "code",
   "execution_count": 5,
   "outputs": [],
   "source": [
    "G_actor = rtn.build_txt_network(set_actor,702388)\n",
    "G_internet = rtn.build_txt_network(set_internet,192192)"
   ],
   "metadata": {
    "collapsed": false
   }
  },
  {
   "cell_type": "code",
   "execution_count": 4,
   "outputs": [],
   "source": [
    "import Scale_of_network as sn"
   ],
   "metadata": {
    "collapsed": false
   }
  },
  {
   "cell_type": "code",
   "execution_count": 9,
   "outputs": [
    {
     "name": "stdout",
     "output_type": "stream",
     "text": [
      "3.04070642534411\n",
      "6.589646971915879\n"
     ]
    }
   ],
   "source": [
    "print(sn.NDNW_network_diameter(G_actor))\n",
    "print(sn.NDNW_network_diameter(G_internet))"
   ],
   "metadata": {
    "collapsed": false
   }
  },
  {
   "cell_type": "code",
   "execution_count": 10,
   "outputs": [
    {
     "name": "stdout",
     "output_type": "stream",
     "text": [
      "702388\n"
     ]
    }
   ],
   "source": [
    "print(G_actor.number_of_nodes())"
   ],
   "metadata": {
    "collapsed": false
   }
  }
 ],
 "metadata": {
  "kernelspec": {
   "display_name": "Python 3",
   "language": "python",
   "name": "python3"
  },
  "language_info": {
   "codemirror_mode": {
    "name": "ipython",
    "version": 2
   },
   "file_extension": ".py",
   "mimetype": "text/x-python",
   "name": "python",
   "nbconvert_exporter": "python",
   "pygments_lexer": "ipython2",
   "version": "2.7.6"
  }
 },
 "nbformat": 4,
 "nbformat_minor": 0
}
